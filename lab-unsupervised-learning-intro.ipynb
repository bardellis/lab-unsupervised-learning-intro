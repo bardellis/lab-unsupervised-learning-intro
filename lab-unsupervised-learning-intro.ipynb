{
 "cells": [
  {
   "cell_type": "markdown",
   "id": "c830e3d5",
   "metadata": {},
   "source": [
    "# Lab | Unsupervised learning intro (GNOD - part 4)\n",
    "\n",
    "### Instructions\n",
    "\n",
    "It's the moment to perform clustering on the songs you collected. Remember that the ultimate goal of this little project is to improve the recommendations of songs in the hope that the user will enjoy the new song.. Clustering the songs will allow the recommendation system to limit the scope of the recommendations to only songs that belong to the same cluster - songs with similar audio features.\n",
    "\n",
    "The activities you did with the Spotify API and the PopVortex web scraping will allow you to create a pipeline such that when the user enters a song, you:\n",
    "\n",
    "Check whether or not the input song is in the PopVortex Hot 100.\n",
    "Recommend another Hot 100 song\n",
    "If it is NOT in the hot 100, then collect the audio features from the Spotify API for the input song.\n",
    "You want to send the Spotify audio features of the submitted song to the clustering model, which should return a cluster number.\n",
    "Then you recommend a song from the same cluster number.\n",
    "Your model will be even more accurate the more songs you use to create your clusters in your model, so you want to have as many songs as possible to create the clustering model. You can find some larger datasets on Kaggle containing more songs with audio features that have already been scraped and saved as a .csv file. You can add these to your own scraped data. Here are some links to try:\n",
    "\n",
    "* Datasets 1960 - 2019\n",
    "* Datasets 1921 - 2020\n",
    "* General Song Datasets"
   ]
  },
  {
   "cell_type": "code",
   "execution_count": 185,
   "id": "2fe70bfd",
   "metadata": {},
   "outputs": [],
   "source": [
    "from sklearn import cluster, datasets\n",
    "from sklearn.preprocessing import StandardScaler\n",
    "from sklearn.preprocessing import MinMaxScaler\n",
    "from sklearn.cluster import KMeans\n",
    "import pickle"
   ]
  },
  {
   "cell_type": "code",
   "execution_count": 186,
   "id": "4fadc02b",
   "metadata": {},
   "outputs": [],
   "source": [
    "import pandas as pd\n",
    "import spotipy\n",
    "from spotipy.oauth2 import SpotifyClientCredentials\n",
    "import numpy as np\n",
    "from pandas import json_normalize\n",
    "import requests\n",
    "import pandas as pd"
   ]
  },
  {
   "cell_type": "markdown",
   "id": "232b5589",
   "metadata": {},
   "source": [
    "## Lab | Get data"
   ]
  },
  {
   "cell_type": "code",
   "execution_count": 187,
   "id": "484c3e07",
   "metadata": {},
   "outputs": [
    {
     "data": {
      "text/plain": [
       "(50609, 21)"
      ]
     },
     "execution_count": 187,
     "metadata": {},
     "output_type": "execute_result"
    }
   ],
   "source": [
    "import pandas as pd\n",
    "\n",
    "# read csv file from the previous lab (playlists)\n",
    "file = 'df_w_audio_ft2.csv'\n",
    "Audio = pd.read_csv(file)\n",
    "Audio.shape"
   ]
  },
  {
   "cell_type": "code",
   "execution_count": 188,
   "id": "cfb87d14",
   "metadata": {},
   "outputs": [
    {
     "data": {
      "text/plain": [
       "0"
      ]
     },
     "execution_count": 188,
     "metadata": {},
     "output_type": "execute_result"
    }
   ],
   "source": [
    "Audio.isna().sum().sum()"
   ]
  },
  {
   "cell_type": "markdown",
   "id": "947b63fe",
   "metadata": {},
   "source": [
    "## Lab | Clustering"
   ]
  },
  {
   "cell_type": "code",
   "execution_count": 189,
   "id": "0a2d74e4",
   "metadata": {},
   "outputs": [
    {
     "data": {
      "text/html": [
       "<div>\n",
       "<style scoped>\n",
       "    .dataframe tbody tr th:only-of-type {\n",
       "        vertical-align: middle;\n",
       "    }\n",
       "\n",
       "    .dataframe tbody tr th {\n",
       "        vertical-align: top;\n",
       "    }\n",
       "\n",
       "    .dataframe thead th {\n",
       "        text-align: right;\n",
       "    }\n",
       "</style>\n",
       "<table border=\"1\" class=\"dataframe\">\n",
       "  <thead>\n",
       "    <tr style=\"text-align: right;\">\n",
       "      <th></th>\n",
       "      <th>track.name</th>\n",
       "      <th>name</th>\n",
       "      <th>song_id</th>\n",
       "      <th>danceability</th>\n",
       "      <th>energy</th>\n",
       "      <th>key</th>\n",
       "      <th>loudness</th>\n",
       "      <th>mode</th>\n",
       "      <th>speechiness</th>\n",
       "      <th>acousticness</th>\n",
       "      <th>instrumentalness</th>\n",
       "      <th>liveness</th>\n",
       "      <th>valence</th>\n",
       "      <th>tempo</th>\n",
       "      <th>type</th>\n",
       "      <th>id</th>\n",
       "      <th>uri</th>\n",
       "      <th>track_href</th>\n",
       "      <th>analysis_url</th>\n",
       "      <th>duration_ms</th>\n",
       "      <th>time_signature</th>\n",
       "    </tr>\n",
       "  </thead>\n",
       "  <tbody>\n",
       "    <tr>\n",
       "      <th>0</th>\n",
       "      <td>Like a Rolling Stone</td>\n",
       "      <td>Bob Dylan</td>\n",
       "      <td>3AhXZa8sUQht0UEdBJgpGc</td>\n",
       "      <td>0.482</td>\n",
       "      <td>0.721</td>\n",
       "      <td>0</td>\n",
       "      <td>-6.839</td>\n",
       "      <td>1</td>\n",
       "      <td>0.0321</td>\n",
       "      <td>0.731000</td>\n",
       "      <td>0.000000</td>\n",
       "      <td>0.1890</td>\n",
       "      <td>0.557</td>\n",
       "      <td>95.263</td>\n",
       "      <td>audio_features</td>\n",
       "      <td>3AhXZa8sUQht0UEdBJgpGc</td>\n",
       "      <td>spotify:track:3AhXZa8sUQht0UEdBJgpGc</td>\n",
       "      <td>https://api.spotify.com/v1/tracks/3AhXZa8sUQht...</td>\n",
       "      <td>https://api.spotify.com/v1/audio-analysis/3AhX...</td>\n",
       "      <td>369600</td>\n",
       "      <td>4</td>\n",
       "    </tr>\n",
       "    <tr>\n",
       "      <th>1</th>\n",
       "      <td>Smells Like Teen Spirit</td>\n",
       "      <td>Nirvana</td>\n",
       "      <td>3oTlkzk1OtrhH8wBAduVEi</td>\n",
       "      <td>0.485</td>\n",
       "      <td>0.863</td>\n",
       "      <td>1</td>\n",
       "      <td>-9.027</td>\n",
       "      <td>1</td>\n",
       "      <td>0.0495</td>\n",
       "      <td>0.000012</td>\n",
       "      <td>0.016200</td>\n",
       "      <td>0.1380</td>\n",
       "      <td>0.767</td>\n",
       "      <td>116.835</td>\n",
       "      <td>audio_features</td>\n",
       "      <td>3oTlkzk1OtrhH8wBAduVEi</td>\n",
       "      <td>spotify:track:3oTlkzk1OtrhH8wBAduVEi</td>\n",
       "      <td>https://api.spotify.com/v1/tracks/3oTlkzk1Otrh...</td>\n",
       "      <td>https://api.spotify.com/v1/audio-analysis/3oTl...</td>\n",
       "      <td>300977</td>\n",
       "      <td>4</td>\n",
       "    </tr>\n",
       "    <tr>\n",
       "      <th>2</th>\n",
       "      <td>A Day In The Life - Remastered</td>\n",
       "      <td>The Beatles</td>\n",
       "      <td>3ZFBeIyP41HhnALjxWy1pR</td>\n",
       "      <td>0.364</td>\n",
       "      <td>0.457</td>\n",
       "      <td>4</td>\n",
       "      <td>-14.162</td>\n",
       "      <td>0</td>\n",
       "      <td>0.0675</td>\n",
       "      <td>0.290000</td>\n",
       "      <td>0.000106</td>\n",
       "      <td>0.9220</td>\n",
       "      <td>0.175</td>\n",
       "      <td>163.219</td>\n",
       "      <td>audio_features</td>\n",
       "      <td>3ZFBeIyP41HhnALjxWy1pR</td>\n",
       "      <td>spotify:track:3ZFBeIyP41HhnALjxWy1pR</td>\n",
       "      <td>https://api.spotify.com/v1/tracks/3ZFBeIyP41Hh...</td>\n",
       "      <td>https://api.spotify.com/v1/audio-analysis/3ZFB...</td>\n",
       "      <td>337413</td>\n",
       "      <td>4</td>\n",
       "    </tr>\n",
       "    <tr>\n",
       "      <th>3</th>\n",
       "      <td>Good Vibrations (Mono)</td>\n",
       "      <td>The Beach Boys</td>\n",
       "      <td>5Qt4Cc66g24QWwGP3YYV9y</td>\n",
       "      <td>0.398</td>\n",
       "      <td>0.413</td>\n",
       "      <td>1</td>\n",
       "      <td>-10.934</td>\n",
       "      <td>1</td>\n",
       "      <td>0.0388</td>\n",
       "      <td>0.082200</td>\n",
       "      <td>0.000025</td>\n",
       "      <td>0.0891</td>\n",
       "      <td>0.331</td>\n",
       "      <td>133.574</td>\n",
       "      <td>audio_features</td>\n",
       "      <td>5Qt4Cc66g24QWwGP3YYV9y</td>\n",
       "      <td>spotify:track:5Qt4Cc66g24QWwGP3YYV9y</td>\n",
       "      <td>https://api.spotify.com/v1/tracks/5Qt4Cc66g24Q...</td>\n",
       "      <td>https://api.spotify.com/v1/audio-analysis/5Qt4...</td>\n",
       "      <td>219147</td>\n",
       "      <td>4</td>\n",
       "    </tr>\n",
       "    <tr>\n",
       "      <th>4</th>\n",
       "      <td>Johnny B Goode</td>\n",
       "      <td>Chuck Berry</td>\n",
       "      <td>7MH2ZclofPlTrZOkPzZKhK</td>\n",
       "      <td>0.518</td>\n",
       "      <td>0.756</td>\n",
       "      <td>10</td>\n",
       "      <td>-10.851</td>\n",
       "      <td>1</td>\n",
       "      <td>0.0915</td>\n",
       "      <td>0.735000</td>\n",
       "      <td>0.000062</td>\n",
       "      <td>0.3170</td>\n",
       "      <td>0.968</td>\n",
       "      <td>166.429</td>\n",
       "      <td>audio_features</td>\n",
       "      <td>7MH2ZclofPlTrZOkPzZKhK</td>\n",
       "      <td>spotify:track:7MH2ZclofPlTrZOkPzZKhK</td>\n",
       "      <td>https://api.spotify.com/v1/tracks/7MH2ZclofPlT...</td>\n",
       "      <td>https://api.spotify.com/v1/audio-analysis/7MH2...</td>\n",
       "      <td>160893</td>\n",
       "      <td>4</td>\n",
       "    </tr>\n",
       "  </tbody>\n",
       "</table>\n",
       "</div>"
      ],
      "text/plain": [
       "                       track.name            name  ... duration_ms  time_signature\n",
       "0            Like a Rolling Stone       Bob Dylan  ...      369600               4\n",
       "1         Smells Like Teen Spirit         Nirvana  ...      300977               4\n",
       "2  A Day In The Life - Remastered     The Beatles  ...      337413               4\n",
       "3          Good Vibrations (Mono)  The Beach Boys  ...      219147               4\n",
       "4                  Johnny B Goode     Chuck Berry  ...      160893               4\n",
       "\n",
       "[5 rows x 21 columns]"
      ]
     },
     "execution_count": 189,
     "metadata": {},
     "output_type": "execute_result"
    }
   ],
   "source": [
    "Audio.head()"
   ]
  },
  {
   "cell_type": "code",
   "execution_count": 190,
   "id": "dcffb314",
   "metadata": {},
   "outputs": [
    {
     "data": {
      "text/plain": [
       "Index(['track.name', 'name', 'song_id', 'danceability', 'energy', 'key',\n",
       "       'loudness', 'mode', 'speechiness', 'acousticness', 'instrumentalness',\n",
       "       'liveness', 'valence', 'tempo', 'type', 'id', 'uri', 'track_href',\n",
       "       'analysis_url', 'duration_ms', 'time_signature'],\n",
       "      dtype='object')"
      ]
     },
     "execution_count": 190,
     "metadata": {},
     "output_type": "execute_result"
    }
   ],
   "source": [
    "Audio.columns"
   ]
  },
  {
   "cell_type": "code",
   "execution_count": 191,
   "id": "1aab062b",
   "metadata": {},
   "outputs": [],
   "source": [
    "Audio_ft = Audio.select_dtypes(include='number')"
   ]
  },
  {
   "cell_type": "code",
   "execution_count": 192,
   "id": "6b94a283",
   "metadata": {},
   "outputs": [
    {
     "data": {
      "text/html": [
       "<div>\n",
       "<style scoped>\n",
       "    .dataframe tbody tr th:only-of-type {\n",
       "        vertical-align: middle;\n",
       "    }\n",
       "\n",
       "    .dataframe tbody tr th {\n",
       "        vertical-align: top;\n",
       "    }\n",
       "\n",
       "    .dataframe thead th {\n",
       "        text-align: right;\n",
       "    }\n",
       "</style>\n",
       "<table border=\"1\" class=\"dataframe\">\n",
       "  <thead>\n",
       "    <tr style=\"text-align: right;\">\n",
       "      <th></th>\n",
       "      <th>count</th>\n",
       "      <th>mean</th>\n",
       "      <th>std</th>\n",
       "      <th>min</th>\n",
       "      <th>25%</th>\n",
       "      <th>50%</th>\n",
       "      <th>75%</th>\n",
       "      <th>max</th>\n",
       "    </tr>\n",
       "  </thead>\n",
       "  <tbody>\n",
       "    <tr>\n",
       "      <th>danceability</th>\n",
       "      <td>50609.0</td>\n",
       "      <td>0.576502</td>\n",
       "      <td>0.160818</td>\n",
       "      <td>0.00000</td>\n",
       "      <td>0.468000</td>\n",
       "      <td>0.586000</td>\n",
       "      <td>0.6940</td>\n",
       "      <td>0.988</td>\n",
       "    </tr>\n",
       "    <tr>\n",
       "      <th>energy</th>\n",
       "      <td>50609.0</td>\n",
       "      <td>0.665728</td>\n",
       "      <td>0.211479</td>\n",
       "      <td>0.00002</td>\n",
       "      <td>0.523000</td>\n",
       "      <td>0.697000</td>\n",
       "      <td>0.8370</td>\n",
       "      <td>0.999</td>\n",
       "    </tr>\n",
       "    <tr>\n",
       "      <th>key</th>\n",
       "      <td>50609.0</td>\n",
       "      <td>5.276077</td>\n",
       "      <td>3.570118</td>\n",
       "      <td>0.00000</td>\n",
       "      <td>2.000000</td>\n",
       "      <td>5.000000</td>\n",
       "      <td>9.0000</td>\n",
       "      <td>11.000</td>\n",
       "    </tr>\n",
       "    <tr>\n",
       "      <th>loudness</th>\n",
       "      <td>50609.0</td>\n",
       "      <td>-8.014889</td>\n",
       "      <td>3.528075</td>\n",
       "      <td>-60.00000</td>\n",
       "      <td>-10.031000</td>\n",
       "      <td>-7.367000</td>\n",
       "      <td>-5.4140</td>\n",
       "      <td>2.769</td>\n",
       "    </tr>\n",
       "    <tr>\n",
       "      <th>mode</th>\n",
       "      <td>50609.0</td>\n",
       "      <td>0.657571</td>\n",
       "      <td>0.474527</td>\n",
       "      <td>0.00000</td>\n",
       "      <td>0.000000</td>\n",
       "      <td>1.000000</td>\n",
       "      <td>1.0000</td>\n",
       "      <td>1.000</td>\n",
       "    </tr>\n",
       "    <tr>\n",
       "      <th>speechiness</th>\n",
       "      <td>50609.0</td>\n",
       "      <td>0.067014</td>\n",
       "      <td>0.067462</td>\n",
       "      <td>0.00000</td>\n",
       "      <td>0.033300</td>\n",
       "      <td>0.043000</td>\n",
       "      <td>0.0675</td>\n",
       "      <td>0.954</td>\n",
       "    </tr>\n",
       "    <tr>\n",
       "      <th>acousticness</th>\n",
       "      <td>50609.0</td>\n",
       "      <td>0.226327</td>\n",
       "      <td>0.277448</td>\n",
       "      <td>0.00000</td>\n",
       "      <td>0.011700</td>\n",
       "      <td>0.091500</td>\n",
       "      <td>0.3670</td>\n",
       "      <td>0.996</td>\n",
       "    </tr>\n",
       "    <tr>\n",
       "      <th>instrumentalness</th>\n",
       "      <td>50609.0</td>\n",
       "      <td>0.123533</td>\n",
       "      <td>0.260593</td>\n",
       "      <td>0.00000</td>\n",
       "      <td>0.000001</td>\n",
       "      <td>0.000277</td>\n",
       "      <td>0.0452</td>\n",
       "      <td>0.993</td>\n",
       "    </tr>\n",
       "    <tr>\n",
       "      <th>liveness</th>\n",
       "      <td>50609.0</td>\n",
       "      <td>0.191982</td>\n",
       "      <td>0.160546</td>\n",
       "      <td>0.00829</td>\n",
       "      <td>0.092900</td>\n",
       "      <td>0.127000</td>\n",
       "      <td>0.2470</td>\n",
       "      <td>0.998</td>\n",
       "    </tr>\n",
       "    <tr>\n",
       "      <th>valence</th>\n",
       "      <td>50609.0</td>\n",
       "      <td>0.533088</td>\n",
       "      <td>0.251775</td>\n",
       "      <td>0.00000</td>\n",
       "      <td>0.332000</td>\n",
       "      <td>0.535000</td>\n",
       "      <td>0.7410</td>\n",
       "      <td>0.995</td>\n",
       "    </tr>\n",
       "    <tr>\n",
       "      <th>tempo</th>\n",
       "      <td>50609.0</td>\n",
       "      <td>122.068901</td>\n",
       "      <td>26.984198</td>\n",
       "      <td>0.00000</td>\n",
       "      <td>102.847000</td>\n",
       "      <td>120.534000</td>\n",
       "      <td>136.0490</td>\n",
       "      <td>231.028</td>\n",
       "    </tr>\n",
       "    <tr>\n",
       "      <th>duration_ms</th>\n",
       "      <td>50609.0</td>\n",
       "      <td>245085.671639</td>\n",
       "      <td>89262.673084</td>\n",
       "      <td>35587.00000</td>\n",
       "      <td>195825.000000</td>\n",
       "      <td>229787.000000</td>\n",
       "      <td>272373.0000</td>\n",
       "      <td>2516987.000</td>\n",
       "    </tr>\n",
       "    <tr>\n",
       "      <th>time_signature</th>\n",
       "      <td>50609.0</td>\n",
       "      <td>3.942777</td>\n",
       "      <td>0.303196</td>\n",
       "      <td>0.00000</td>\n",
       "      <td>4.000000</td>\n",
       "      <td>4.000000</td>\n",
       "      <td>4.0000</td>\n",
       "      <td>5.000</td>\n",
       "    </tr>\n",
       "  </tbody>\n",
       "</table>\n",
       "</div>"
      ],
      "text/plain": [
       "                    count           mean  ...          75%          max\n",
       "danceability      50609.0       0.576502  ...       0.6940        0.988\n",
       "energy            50609.0       0.665728  ...       0.8370        0.999\n",
       "key               50609.0       5.276077  ...       9.0000       11.000\n",
       "loudness          50609.0      -8.014889  ...      -5.4140        2.769\n",
       "mode              50609.0       0.657571  ...       1.0000        1.000\n",
       "speechiness       50609.0       0.067014  ...       0.0675        0.954\n",
       "acousticness      50609.0       0.226327  ...       0.3670        0.996\n",
       "instrumentalness  50609.0       0.123533  ...       0.0452        0.993\n",
       "liveness          50609.0       0.191982  ...       0.2470        0.998\n",
       "valence           50609.0       0.533088  ...       0.7410        0.995\n",
       "tempo             50609.0     122.068901  ...     136.0490      231.028\n",
       "duration_ms       50609.0  245085.671639  ...  272373.0000  2516987.000\n",
       "time_signature    50609.0       3.942777  ...       4.0000        5.000\n",
       "\n",
       "[13 rows x 8 columns]"
      ]
     },
     "execution_count": 192,
     "metadata": {},
     "output_type": "execute_result"
    }
   ],
   "source": [
    "Audio_ft.describe().T"
   ]
  },
  {
   "cell_type": "code",
   "execution_count": 193,
   "id": "eda64c79",
   "metadata": {},
   "outputs": [
    {
     "data": {
      "text/html": [
       "<div>\n",
       "<style scoped>\n",
       "    .dataframe tbody tr th:only-of-type {\n",
       "        vertical-align: middle;\n",
       "    }\n",
       "\n",
       "    .dataframe tbody tr th {\n",
       "        vertical-align: top;\n",
       "    }\n",
       "\n",
       "    .dataframe thead th {\n",
       "        text-align: right;\n",
       "    }\n",
       "</style>\n",
       "<table border=\"1\" class=\"dataframe\">\n",
       "  <thead>\n",
       "    <tr style=\"text-align: right;\">\n",
       "      <th></th>\n",
       "      <th>danceability</th>\n",
       "      <th>energy</th>\n",
       "      <th>key</th>\n",
       "      <th>loudness</th>\n",
       "      <th>mode</th>\n",
       "      <th>speechiness</th>\n",
       "      <th>acousticness</th>\n",
       "      <th>instrumentalness</th>\n",
       "      <th>liveness</th>\n",
       "      <th>valence</th>\n",
       "      <th>tempo</th>\n",
       "      <th>duration_ms</th>\n",
       "      <th>time_signature</th>\n",
       "    </tr>\n",
       "  </thead>\n",
       "  <tbody>\n",
       "    <tr>\n",
       "      <th>0</th>\n",
       "      <td>-0.587635</td>\n",
       "      <td>0.261360</td>\n",
       "      <td>-1.477858</td>\n",
       "      <td>0.333298</td>\n",
       "      <td>0.721629</td>\n",
       "      <td>-0.517542</td>\n",
       "      <td>1.818998</td>\n",
       "      <td>-0.474050</td>\n",
       "      <td>-0.018572</td>\n",
       "      <td>0.094973</td>\n",
       "      <td>-0.993402</td>\n",
       "      <td>1.394934</td>\n",
       "      <td>0.188735</td>\n",
       "    </tr>\n",
       "    <tr>\n",
       "      <th>1</th>\n",
       "      <td>-0.568980</td>\n",
       "      <td>0.932828</td>\n",
       "      <td>-1.197753</td>\n",
       "      <td>-0.286876</td>\n",
       "      <td>0.721629</td>\n",
       "      <td>-0.259616</td>\n",
       "      <td>-0.815708</td>\n",
       "      <td>-0.411884</td>\n",
       "      <td>-0.336242</td>\n",
       "      <td>0.929058</td>\n",
       "      <td>-0.193964</td>\n",
       "      <td>0.626151</td>\n",
       "      <td>0.188735</td>\n",
       "    </tr>\n",
       "    <tr>\n",
       "      <th>2</th>\n",
       "      <td>-1.321390</td>\n",
       "      <td>-0.987002</td>\n",
       "      <td>-0.357436</td>\n",
       "      <td>-1.742359</td>\n",
       "      <td>-1.385753</td>\n",
       "      <td>0.007203</td>\n",
       "      <td>0.229498</td>\n",
       "      <td>-0.473644</td>\n",
       "      <td>4.547152</td>\n",
       "      <td>-1.422267</td>\n",
       "      <td>1.524985</td>\n",
       "      <td>1.034343</td>\n",
       "      <td>0.188735</td>\n",
       "    </tr>\n",
       "    <tr>\n",
       "      <th>3</th>\n",
       "      <td>-1.109969</td>\n",
       "      <td>-1.195062</td>\n",
       "      <td>-1.197753</td>\n",
       "      <td>-0.827403</td>\n",
       "      <td>0.721629</td>\n",
       "      <td>-0.418226</td>\n",
       "      <td>-0.519478</td>\n",
       "      <td>-0.473953</td>\n",
       "      <td>-0.640831</td>\n",
       "      <td>-0.802661</td>\n",
       "      <td>0.426369</td>\n",
       "      <td>-0.290591</td>\n",
       "      <td>0.188735</td>\n",
       "    </tr>\n",
       "    <tr>\n",
       "      <th>4</th>\n",
       "      <td>-0.363778</td>\n",
       "      <td>0.426863</td>\n",
       "      <td>1.323197</td>\n",
       "      <td>-0.803877</td>\n",
       "      <td>0.721629</td>\n",
       "      <td>0.362962</td>\n",
       "      <td>1.833415</td>\n",
       "      <td>-0.473812</td>\n",
       "      <td>0.778717</td>\n",
       "      <td>1.727396</td>\n",
       "      <td>1.643945</td>\n",
       "      <td>-0.943211</td>\n",
       "      <td>0.188735</td>\n",
       "    </tr>\n",
       "  </tbody>\n",
       "</table>\n",
       "</div>"
      ],
      "text/plain": [
       "   danceability    energy       key  ...     tempo  duration_ms  time_signature\n",
       "0     -0.587635  0.261360 -1.477858  ... -0.993402     1.394934        0.188735\n",
       "1     -0.568980  0.932828 -1.197753  ... -0.193964     0.626151        0.188735\n",
       "2     -1.321390 -0.987002 -0.357436  ...  1.524985     1.034343        0.188735\n",
       "3     -1.109969 -1.195062 -1.197753  ...  0.426369    -0.290591        0.188735\n",
       "4     -0.363778  0.426863  1.323197  ...  1.643945    -0.943211        0.188735\n",
       "\n",
       "[5 rows x 13 columns]"
      ]
     },
     "execution_count": 193,
     "metadata": {},
     "output_type": "execute_result"
    }
   ],
   "source": [
    "import pandas as pd\n",
    "from sklearn.preprocessing import StandardScaler\n",
    "\n",
    "scaler = StandardScaler()\n",
    "scaler.fit(Audio_ft)\n",
    "Audio_scaled = scaler.transform(Audio_ft)\n",
    "pd.DataFrame(Audio_scaled,columns=Audio_ft.columns).head()"
   ]
  },
  {
   "cell_type": "code",
   "execution_count": 194,
   "id": "a9939109",
   "metadata": {},
   "outputs": [
    {
     "data": {
      "text/plain": [
       "array([[-0.58763499,  0.26136026, -1.47785845, ..., -0.99340235,\n",
       "         1.39493423,  0.18873466],\n",
       "       [-0.56898022,  0.93282785, -1.19775292, ..., -0.19396361,\n",
       "         0.62615065,  0.18873466],\n",
       "       [-1.32138961, -0.98700203, -0.35743633, ...,  1.52498532,\n",
       "         1.03434322,  0.18873466],\n",
       "       ...,\n",
       "       [-1.50171914,  0.84771224, -0.63754186, ..., -0.04572724,\n",
       "         1.26080069, -3.10949473],\n",
       "       [-0.32024984, -1.13359003,  1.04309132, ...,  0.23577362,\n",
       "        -0.12209784,  0.18873466],\n",
       "       [ 0.89231076, -1.11940409, -1.19775292, ..., -1.18914847,\n",
       "        -0.41413769,  0.18873466]])"
      ]
     },
     "execution_count": 194,
     "metadata": {},
     "output_type": "execute_result"
    }
   ],
   "source": [
    "Audio_scaled"
   ]
  },
  {
   "cell_type": "code",
   "execution_count": 195,
   "id": "dc60154d",
   "metadata": {},
   "outputs": [
    {
     "data": {
      "text/plain": [
       "KMeans(n_clusters=3, random_state=1234)"
      ]
     },
     "execution_count": 195,
     "metadata": {},
     "output_type": "execute_result"
    }
   ],
   "source": [
    "from sklearn.cluster import KMeans\n",
    "kmeans = KMeans(n_clusters=3, random_state=1234)\n",
    "kmeans.fit(Audio_scaled)"
   ]
  },
  {
   "cell_type": "code",
   "execution_count": 196,
   "id": "16889c3e",
   "metadata": {},
   "outputs": [
    {
     "data": {
      "text/plain": [
       "530008.8588523065"
      ]
     },
     "execution_count": 196,
     "metadata": {},
     "output_type": "execute_result"
    }
   ],
   "source": [
    "kmeans.inertia_"
   ]
  },
  {
   "cell_type": "code",
   "execution_count": 197,
   "id": "4f824959",
   "metadata": {},
   "outputs": [
    {
     "name": "stdout",
     "output_type": "stream",
     "text": [
      "403352.7596460913\n",
      "CPU times: total: 109 ms\n",
      "Wall time: 42.8 ms\n"
     ]
    }
   ],
   "source": [
    "%%time\n",
    "kmeans = KMeans(n_clusters=8,\n",
    "                init=\"random\",\n",
    "                n_init= 1,  # try with 1, 4, 8, 20, 30, 100...\n",
    "                max_iter=10,\n",
    "                tol=0,\n",
    "                random_state=1234)\n",
    "kmeans.fit(Audio_scaled)\n",
    "print(kmeans.inertia_)"
   ]
  },
  {
   "cell_type": "code",
   "execution_count": null,
   "id": "e336ad03",
   "metadata": {},
   "outputs": [],
   "source": []
  },
  {
   "cell_type": "markdown",
   "id": "c550084d",
   "metadata": {},
   "source": [
    "### Lab | Clustering | choosing k | means.inertia"
   ]
  },
  {
   "cell_type": "code",
   "execution_count": 198,
   "id": "ba6af0f3",
   "metadata": {},
   "outputs": [],
   "source": [
    "# import numpy as np\n",
    "# K = range(2, 20)\n",
    "# inertia = []\n",
    "\n",
    "# for k in K:\n",
    "#     kmeans = KMeans(n_clusters=k,\n",
    "#                     random_state=1234)\n",
    "#     kmeans.fit(Audio_scaled)\n",
    "#     inertia.append(kmeans.inertia_)\n",
    "\n",
    "# import matplotlib.pyplot as plt\n",
    "# %matplotlib inline\n",
    "# plt.figure(figsize=(16,8))\n",
    "# plt.plot(K, inertia, 'bx-')\n",
    "# plt.xlabel('k')\n",
    "# plt.ylabel('inertia')\n",
    "# plt.xticks(np.arange(min(K), max(K)+1, 1.0))\n",
    "# plt.title('Elbow Method showing the optimal k')"
   ]
  },
  {
   "cell_type": "code",
   "execution_count": null,
   "id": "5b660b65",
   "metadata": {},
   "outputs": [],
   "source": []
  },
  {
   "cell_type": "markdown",
   "id": "db989e39",
   "metadata": {},
   "source": [
    "### Lab | Clustering | choosing k | Sihouette score"
   ]
  },
  {
   "cell_type": "code",
   "execution_count": 199,
   "id": "381d225e",
   "metadata": {},
   "outputs": [],
   "source": [
    "# from sklearn.metrics import silhouette_score\n",
    "# K = range(2, 20)\n",
    "# silhouette = []\n",
    "# for k in K:\n",
    "#     kmeans = KMeans(n_clusters=k,\n",
    "#                     random_state=1234)\n",
    "#     kmeans.fit(Audio_scaled)\n",
    "#     silhouette.append(silhouette_score(Audio_scaled, kmeans.predict(Audio_scaled)))\n",
    "# plt.figure(figsize=(16,8))\n",
    "# plt.plot(K, silhouette, 'bx-')\n",
    "# plt.xlabel('k')\n",
    "# plt.ylabel('silhouette score')\n",
    "# plt.xticks(np.arange(min(K), max(K)+1, 1.0))\n",
    "# plt.title('Slhouette score showing the optimal k')"
   ]
  },
  {
   "cell_type": "markdown",
   "id": "1c37f941",
   "metadata": {},
   "source": [
    "### Lab | Clustering | Clustering"
   ]
  },
  {
   "cell_type": "code",
   "execution_count": 200,
   "id": "99834fe3",
   "metadata": {},
   "outputs": [
    {
     "data": {
      "text/plain": [
       "0     2384\n",
       "1     3780\n",
       "2     3346\n",
       "3     3899\n",
       "4     3391\n",
       "5     5108\n",
       "6     2236\n",
       "7     2483\n",
       "8     2548\n",
       "9     4367\n",
       "10    1382\n",
       "11    4677\n",
       "12    3473\n",
       "13    1278\n",
       "14     193\n",
       "15    2148\n",
       "16     260\n",
       "17    2412\n",
       "18    1244\n",
       "dtype: int64"
      ]
     },
     "execution_count": 200,
     "metadata": {},
     "output_type": "execute_result"
    }
   ],
   "source": [
    "from sklearn.cluster import KMeans\n",
    "import numpy as np\n",
    "import pandas as pd\n",
    "\n",
    "kmeans = KMeans(n_clusters=19, random_state=1234).fit(Audio_scaled)\n",
    "clusters_1 = kmeans.predict(Audio_scaled)\n",
    "pd.Series(clusters_1).value_counts().sort_index()"
   ]
  },
  {
   "cell_type": "code",
   "execution_count": 351,
   "id": "57e27ab1",
   "metadata": {},
   "outputs": [],
   "source": [
    "# Audio['cluster']=clusters_1"
   ]
  },
  {
   "cell_type": "code",
   "execution_count": 350,
   "id": "1a95d842",
   "metadata": {
    "scrolled": true
   },
   "outputs": [],
   "source": [
    "# Audio.head(50)"
   ]
  },
  {
   "cell_type": "markdown",
   "id": "eeef3698",
   "metadata": {},
   "source": [
    "### Lab | Recomendor | Authentication with secrets"
   ]
  },
  {
   "cell_type": "code",
   "execution_count": 203,
   "id": "95b75d87",
   "metadata": {},
   "outputs": [],
   "source": [
    "secrets_file = open(\"secrets.txt\",\"r\")"
   ]
  },
  {
   "cell_type": "code",
   "execution_count": 204,
   "id": "605cb0d2",
   "metadata": {},
   "outputs": [],
   "source": [
    "string = secrets_file.read()"
   ]
  },
  {
   "cell_type": "code",
   "execution_count": 205,
   "id": "20467e6c",
   "metadata": {},
   "outputs": [
    {
     "data": {
      "text/plain": [
       "'clientid:806b30c89127425d9de916ba36c86ea8\\nclientsecret:0f6eaf58bc364cd598cac727e6da88b4'"
      ]
     },
     "execution_count": 205,
     "metadata": {},
     "output_type": "execute_result"
    }
   ],
   "source": [
    "string"
   ]
  },
  {
   "cell_type": "code",
   "execution_count": 206,
   "id": "39410967",
   "metadata": {},
   "outputs": [],
   "source": [
    "secrets_dict={}\n",
    "for line in string.split('\\n'):\n",
    "    if len(line) > 0:\n",
    "        #print(line.split(':'))\n",
    "        secrets_dict[line.split(':')[0]]=line.split(':')[1].strip()"
   ]
  },
  {
   "cell_type": "code",
   "execution_count": 207,
   "id": "3cdb4358",
   "metadata": {},
   "outputs": [
    {
     "data": {
      "text/plain": [
       "{'clientid': '806b30c89127425d9de916ba36c86ea8',\n",
       " 'clientsecret': '0f6eaf58bc364cd598cac727e6da88b4'}"
      ]
     },
     "execution_count": 207,
     "metadata": {},
     "output_type": "execute_result"
    }
   ],
   "source": [
    "secrets_dict"
   ]
  },
  {
   "cell_type": "code",
   "execution_count": 208,
   "id": "cf90fda6",
   "metadata": {},
   "outputs": [],
   "source": [
    "import spotipy\n",
    "from spotipy.oauth2 import SpotifyClientCredentials\n",
    "sp = spotipy.Spotify(auth_manager=SpotifyClientCredentials(client_id=secrets_dict['clientid'],\n",
    "                                                           client_secret=secrets_dict['clientsecret']))"
   ]
  },
  {
   "cell_type": "markdown",
   "id": "28897e63",
   "metadata": {},
   "source": [
    "### Lab | Recomendor | Getting Artist and Song_Id"
   ]
  },
  {
   "cell_type": "code",
   "execution_count": 333,
   "id": "66e57767",
   "metadata": {
    "scrolled": false
   },
   "outputs": [],
   "source": [
    "song_title = 'Imagine' #regex\n",
    "# results = sp.search(q=song_title, limit=10, offset=1) # alternative to loop song searchs\n",
    "results = sp.search(q=song_title, limit=50)\n",
    "# results"
   ]
  },
  {
   "cell_type": "markdown",
   "id": "35a7af0a",
   "metadata": {},
   "source": [
    "### Imput Title - Artist choise"
   ]
  },
  {
   "cell_type": "code",
   "execution_count": 334,
   "id": "f4515eef",
   "metadata": {},
   "outputs": [],
   "source": [
    "pd.set_option(\"display.max_columns\", 0)\n",
    "tracks = pd.json_normalize(results[\"tracks\"][\"items\"])\n",
    "# filtered_tracks = tracks[tracks['name'].lower().str.startswith(song_title)].copy()\n",
    "filtered_tracks = tracks[tracks['name'].str.lower().str.contains(song_title.lower())].copy()\n",
    "filtered_tracks.loc[:, 'artists_dfs'] = filtered_tracks.apply(expand_list_dict, axis=1)\n",
    "# filtered_tracks"
   ]
  },
  {
   "cell_type": "code",
   "execution_count": 335,
   "id": "0ae6d0c0",
   "metadata": {},
   "outputs": [],
   "source": [
    "def expand_list_dict(row):\n",
    "    df = json_normalize(row['artists'])\n",
    "    df['song_id'] = row['id']\n",
    "    return df\n",
    "filtered_tracks['artists_dfs'] = filtered_tracks.apply(expand_list_dict, axis=1)\n",
    "# tracks['artists_dfs'] = tracks.apply(expand_list_dict, axis=1)"
   ]
  },
  {
   "cell_type": "code",
   "execution_count": 336,
   "id": "1034520d",
   "metadata": {},
   "outputs": [],
   "source": [
    "artist_df = pd.DataFrame(columns=['external_urls.spotify', 'href', 'id', 'name', 'type', 'uri', 'song_id'])\n",
    "# for mini_df in tracks['artists_dfs']:\n",
    "for mini_df in filtered_tracks['artists_dfs']:\n",
    "    artist_df = pd.concat([artist_df, mini_df], axis=0)\n",
    "# artist_df"
   ]
  },
  {
   "cell_type": "code",
   "execution_count": 337,
   "id": "61ed8f25",
   "metadata": {},
   "outputs": [
    {
     "data": {
      "text/plain": [
       "John Lennon               2\n",
       "Doja Cat                  2\n",
       "Ariana Grande             1\n",
       "yvngxchris                1\n",
       "Jack Johnson              1\n",
       "John Lennon Experience    1\n",
       "Ben Platt                 1\n",
       "Clémence Alheoux          1\n",
       "Pentatonix                1\n",
       "Kevin Gates               1\n",
       "Name: name, dtype: int64"
      ]
     },
     "execution_count": 337,
     "metadata": {},
     "output_type": "execute_result"
    }
   ],
   "source": [
    "optional_singer = artist_df['name'].value_counts().head(10)\n",
    "optional_singer"
   ]
  },
  {
   "cell_type": "code",
   "execution_count": null,
   "id": "becdc449",
   "metadata": {},
   "outputs": [],
   "source": []
  },
  {
   "cell_type": "markdown",
   "id": "ffb24de3",
   "metadata": {},
   "source": [
    "### Lab | Recomendor | Get song id"
   ]
  },
  {
   "cell_type": "code",
   "execution_count": 338,
   "id": "0122abaa",
   "metadata": {},
   "outputs": [
    {
     "data": {
      "text/plain": [
       "0    7pKfPomDEeI4TPT6EOYjn9\n",
       "Name: song_id, dtype: object"
      ]
     },
     "execution_count": 338,
     "metadata": {},
     "output_type": "execute_result"
    }
   ],
   "source": [
    "imput_artist = \"John Lennon\"\n",
    "filtered_df = artist_df[artist_df['name'] == imput_artist]\n",
    "choosen_song_id = filtered_df['song_id'].sample()\n",
    "choosen_song_id"
   ]
  },
  {
   "cell_type": "markdown",
   "id": "e8b6e457",
   "metadata": {},
   "source": [
    "### Lab | Recomendor | Getting features for new song"
   ]
  },
  {
   "cell_type": "code",
   "execution_count": 346,
   "id": "6277896e",
   "metadata": {},
   "outputs": [
    {
     "data": {
      "text/html": [
       "<div>\n",
       "<style scoped>\n",
       "    .dataframe tbody tr th:only-of-type {\n",
       "        vertical-align: middle;\n",
       "    }\n",
       "\n",
       "    .dataframe tbody tr th {\n",
       "        vertical-align: top;\n",
       "    }\n",
       "\n",
       "    .dataframe thead th {\n",
       "        text-align: right;\n",
       "    }\n",
       "</style>\n",
       "<table border=\"1\" class=\"dataframe\">\n",
       "  <thead>\n",
       "    <tr style=\"text-align: right;\">\n",
       "      <th></th>\n",
       "      <th>danceability</th>\n",
       "      <th>energy</th>\n",
       "      <th>key</th>\n",
       "      <th>loudness</th>\n",
       "      <th>mode</th>\n",
       "      <th>speechiness</th>\n",
       "      <th>acousticness</th>\n",
       "      <th>instrumentalness</th>\n",
       "      <th>liveness</th>\n",
       "      <th>valence</th>\n",
       "      <th>tempo</th>\n",
       "      <th>duration_ms</th>\n",
       "      <th>time_signature</th>\n",
       "    </tr>\n",
       "  </thead>\n",
       "  <tbody>\n",
       "    <tr>\n",
       "      <th>0</th>\n",
       "      <td>0.578</td>\n",
       "      <td>0.339</td>\n",
       "      <td>0</td>\n",
       "      <td>-10.686</td>\n",
       "      <td>1</td>\n",
       "      <td>0.0263</td>\n",
       "      <td>0.924</td>\n",
       "      <td>0.0491</td>\n",
       "      <td>0.0988</td>\n",
       "      <td>0.14</td>\n",
       "      <td>75.661</td>\n",
       "      <td>186213</td>\n",
       "      <td>4</td>\n",
       "    </tr>\n",
       "  </tbody>\n",
       "</table>\n",
       "</div>"
      ],
      "text/plain": [
       "   danceability  energy  key  ...   tempo  duration_ms  time_signature\n",
       "0         0.578   0.339    0  ...  75.661       186213               4\n",
       "\n",
       "[1 rows x 13 columns]"
      ]
     },
     "execution_count": 346,
     "metadata": {},
     "output_type": "execute_result"
    }
   ],
   "source": [
    "new_song=sp.audio_features(choosen_song_id)\n",
    "new_song_df = pd.DataFrame(new_song)\n",
    "new_song_ft = new_song_df.select_dtypes(include='number')\n",
    "new_song_ft"
   ]
  },
  {
   "cell_type": "markdown",
   "id": "295ce0d4",
   "metadata": {},
   "source": [
    "### Lab | Recomendor | Getting recommendation"
   ]
  },
  {
   "cell_type": "code",
   "execution_count": 347,
   "id": "d26c99f2",
   "metadata": {},
   "outputs": [
    {
     "data": {
      "text/html": [
       "<div>\n",
       "<style scoped>\n",
       "    .dataframe tbody tr th:only-of-type {\n",
       "        vertical-align: middle;\n",
       "    }\n",
       "\n",
       "    .dataframe tbody tr th {\n",
       "        vertical-align: top;\n",
       "    }\n",
       "\n",
       "    .dataframe thead th {\n",
       "        text-align: right;\n",
       "    }\n",
       "</style>\n",
       "<table border=\"1\" class=\"dataframe\">\n",
       "  <thead>\n",
       "    <tr style=\"text-align: right;\">\n",
       "      <th></th>\n",
       "      <th>track.name</th>\n",
       "      <th>name</th>\n",
       "      <th>song_id</th>\n",
       "      <th>danceability</th>\n",
       "      <th>energy</th>\n",
       "      <th>key</th>\n",
       "      <th>loudness</th>\n",
       "      <th>mode</th>\n",
       "      <th>speechiness</th>\n",
       "      <th>acousticness</th>\n",
       "      <th>instrumentalness</th>\n",
       "      <th>liveness</th>\n",
       "      <th>valence</th>\n",
       "      <th>tempo</th>\n",
       "      <th>type</th>\n",
       "      <th>id</th>\n",
       "      <th>uri</th>\n",
       "      <th>track_href</th>\n",
       "      <th>analysis_url</th>\n",
       "      <th>duration_ms</th>\n",
       "      <th>time_signature</th>\n",
       "      <th>cluster</th>\n",
       "    </tr>\n",
       "  </thead>\n",
       "  <tbody>\n",
       "    <tr>\n",
       "      <th>35251</th>\n",
       "      <td>Beneden Alle Peil</td>\n",
       "      <td>Boudewijn de Groot</td>\n",
       "      <td>4qxliTKFH7xpsHmjssxlwp</td>\n",
       "      <td>0.623</td>\n",
       "      <td>0.256</td>\n",
       "      <td>2</td>\n",
       "      <td>-17.674</td>\n",
       "      <td>1</td>\n",
       "      <td>0.0483</td>\n",
       "      <td>0.816</td>\n",
       "      <td>0.00813</td>\n",
       "      <td>0.111</td>\n",
       "      <td>0.557</td>\n",
       "      <td>116.217</td>\n",
       "      <td>audio_features</td>\n",
       "      <td>4qxliTKFH7xpsHmjssxlwp</td>\n",
       "      <td>spotify:track:4qxliTKFH7xpsHmjssxlwp</td>\n",
       "      <td>https://api.spotify.com/v1/tracks/4qxliTKFH7xp...</td>\n",
       "      <td>https://api.spotify.com/v1/audio-analysis/4qxl...</td>\n",
       "      <td>188560</td>\n",
       "      <td>4</td>\n",
       "      <td>7</td>\n",
       "    </tr>\n",
       "  </tbody>\n",
       "</table>\n",
       "</div>"
      ],
      "text/plain": [
       "              track.name                name  ... time_signature  cluster\n",
       "35251  Beneden Alle Peil  Boudewijn de Groot  ...              4        7\n",
       "\n",
       "[1 rows x 22 columns]"
      ]
     },
     "execution_count": 347,
     "metadata": {},
     "output_type": "execute_result"
    }
   ],
   "source": [
    "new_song_scaled2 = scaler.transform(new_song_ft)\n",
    "predicted_cluster_unscaled = kmeans.predict(new_song_scaled2)\n",
    "filtered_audio = Audio[Audio['cluster'] == predicted_cluster_unscaled[0]]\n",
    "filtered_audio.sample()"
   ]
  },
  {
   "cell_type": "code",
   "execution_count": null,
   "id": "2635daa8",
   "metadata": {},
   "outputs": [],
   "source": []
  },
  {
   "cell_type": "markdown",
   "id": "fae80c69",
   "metadata": {},
   "source": [
    "## Recommend a song | Top 200"
   ]
  },
  {
   "cell_type": "code",
   "execution_count": 341,
   "id": "763ced7b",
   "metadata": {},
   "outputs": [
    {
     "name": "stdout",
     "output_type": "stream",
     "text": [
      "Enter the Song to check: Imagine\n",
      "It's not in the hot songs list.\n"
     ]
    }
   ],
   "source": [
    "allsongs_df = 'allsongs.csv'\n",
    "allsongs_df = pd.read_csv(allsongs_df)\n",
    "song_list = allsongs_df['Title'].str.lower()\n",
    "song_to_check = input('Enter the Song to check: ').lower()\n",
    "\n",
    "if song_to_check in song_list.values:\n",
    "    filtered_list = allsongs_df[allsongs_df['Title'].str.lower() != song_to_check]\n",
    "    random_song = filtered_list.sample(1)\n",
    "    recommended_title = random_song['Title'].values[0]\n",
    "    recommended_artist = random_song['Artist'].values[0]\n",
    "    print(f\"Entered song '{song_to_check}'. Here's a recommendation:\")\n",
    "    print(f\"Title: {recommended_title}, Artist: {recommended_artist}\")\n",
    "else:\n",
    "    print(\"It's not in the hot songs list.\")"
   ]
  },
  {
   "cell_type": "markdown",
   "id": "72e0a1cf",
   "metadata": {},
   "source": [
    "## Recommend a song | Playlists"
   ]
  },
  {
   "cell_type": "code",
   "execution_count": 344,
   "id": "315f7726",
   "metadata": {},
   "outputs": [
    {
     "data": {
      "text/plain": [
       "John Lennon         2\n",
       "Doja Cat            2\n",
       "Ariana Grande       1\n",
       "Ben Platt           1\n",
       "yvngxchris          1\n",
       "Jack Johnson        1\n",
       "Kirk Franklin       1\n",
       "Kevin Gates         1\n",
       "Clémence Alheoux    1\n",
       "Ragged Insomnia     1\n",
       "Name: name, dtype: int64"
      ]
     },
     "execution_count": 344,
     "metadata": {},
     "output_type": "execute_result"
    }
   ],
   "source": [
    "results = sp.search(q=song_to_check, limit=50)\n",
    "\n",
    "pd.set_option(\"display.max_columns\", 0)\n",
    "tracks = pd.json_normalize(results[\"tracks\"][\"items\"])\n",
    "\n",
    "filtered_tracks = tracks[tracks['name'].str.lower().str.contains(song_title.lower())].copy()\n",
    "filtered_tracks.loc[:, 'artists_dfs'] = filtered_tracks.apply(expand_list_dict, axis=1)\n",
    "\n",
    "filtered_tracks['artists_dfs'] = filtered_tracks.apply(expand_list_dict, axis=1)\n",
    "\n",
    "artist_df = pd.DataFrame(columns=['external_urls.spotify', 'href', 'id', 'name', 'type', 'uri', 'song_id'])\n",
    "\n",
    "for mini_df in filtered_tracks['artists_dfs']:\n",
    "    artist_df = pd.concat([artist_df, mini_df], axis=0)\n",
    "    \n",
    "optional_singer = artist_df['name'].value_counts().head(10)\n",
    "optional_singer"
   ]
  },
  {
   "cell_type": "markdown",
   "id": "df26dd6a",
   "metadata": {},
   "source": [
    "## Recomend a song | Artist choise"
   ]
  },
  {
   "cell_type": "code",
   "execution_count": 349,
   "id": "fe577868",
   "metadata": {},
   "outputs": [
    {
     "name": "stdout",
     "output_type": "stream",
     "text": [
      "Enter the artist to check: John Lennon\n",
      "Title: Divine  ////  Artist: Antony and the Johnsons  ////  Cluster: 7\n"
     ]
    }
   ],
   "source": [
    "input_artist = input('Enter the artist to check: ')\n",
    "filtered_df = artist_df[artist_df['name'] == input_artist]\n",
    "choosen_song_id = filtered_df['song_id'].sample()\n",
    "new_song = sp.audio_features(choosen_song_id)\n",
    "new_song_df = pd.DataFrame(new_song)\n",
    "new_song_ft = new_song_df.select_dtypes(include='number')\n",
    "new_song_scaled = scaler.transform(new_song_ft)\n",
    "predicted_cluster_unscaled = kmeans.predict(new_song_scaled)\n",
    "filtered_audio = Audio[Audio['cluster'] == predicted_cluster_unscaled[0]]\n",
    "recommended_song = filtered_audio.sample()\n",
    "\n",
    "for index, row in recommended_song.iterrows():\n",
    "    print('Title:', row['track.name'], ' ////  Artist:', row['name'],' ////  Cluster:', row['cluster'])"
   ]
  },
  {
   "cell_type": "code",
   "execution_count": null,
   "id": "f7b6b5bb",
   "metadata": {},
   "outputs": [],
   "source": []
  }
 ],
 "metadata": {
  "kernelspec": {
   "display_name": "Python 3 (ipykernel)",
   "language": "python",
   "name": "python3"
  },
  "language_info": {
   "codemirror_mode": {
    "name": "ipython",
    "version": 3
   },
   "file_extension": ".py",
   "mimetype": "text/x-python",
   "name": "python",
   "nbconvert_exporter": "python",
   "pygments_lexer": "ipython3",
   "version": "3.9.12"
  }
 },
 "nbformat": 4,
 "nbformat_minor": 5
}
